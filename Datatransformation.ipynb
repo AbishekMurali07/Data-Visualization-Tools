{
 "cells": [
  {
   "cell_type": "code",
   "execution_count": 1,
   "id": "92cfb129-b2f6-4bd3-a0c9-6d858ceaf073",
   "metadata": {},
   "outputs": [
    {
     "name": "stdout",
     "output_type": "stream",
     "text": [
      "  model      year     price transmission   mileage fuelType       tax  \\\n",
      "0    A1 -0.357473  0.114773       Manual  0.202087   Petrol  0.566038   \n",
      "1    A6 -0.972871  0.245942    Automatic  0.465128   Diesel  0.075472   \n",
      "2    A1 -0.972871  0.065585       Manual  0.384717   Petrol  0.113208   \n",
      "3    A4 -0.357473  0.255780    Automatic  0.333389   Diesel  0.547170   \n",
      "4    A3  0.873321  0.272176       Manual  0.025548   Petrol  0.547170   \n",
      "\n",
      "   MilesPerGallon  engineSize  Make  price_per_mile  model_encoded  \\\n",
      "0        0.197074         0.2  audi        0.794407              7   \n",
      "1        0.272806         0.5  audi        0.455763             10   \n",
      "2        0.197074         0.2  audi        0.367328              7   \n",
      "3        0.299484         0.5  audi        0.647349              9   \n",
      "4        0.147160         0.0  audi        8.658659              8   \n",
      "\n",
      "   transmission_encoded  fuelType_encoded mpg_level  \n",
      "0                     1                 2       Low  \n",
      "1                     0                 0       Low  \n",
      "2                     1                 2       Low  \n",
      "3                     0                 0       Low  \n",
      "4                     1                 2       Low  \n"
     ]
    }
   ],
   "source": [
    "import pandas as pd\n",
    "from sklearn.preprocessing import MinMaxScaler, StandardScaler, LabelEncoder\n",
    "\n",
    "# Load the Excel file\n",
    "df = pd.read_excel(\"sampledv.xlsx\")\n",
    "\n",
    "# 1. Handling Missing Values (if any)\n",
    "df.dropna(inplace=True)\n",
    "\n",
    "# 2. Changing Data Types (if needed)\n",
    "df['year'] = df['year'].astype(int)\n",
    "df['price'] = df['price'].astype(float)\n",
    "\n",
    "# 3. Feature Engineering: Create \"price_per_mile\"\n",
    "df['price_per_mile'] = df['price'] / df['mileage']\n",
    "\n",
    "# 4. Label Encoding for categorical features\n",
    "le = LabelEncoder()\n",
    "df['model_encoded'] = le.fit_transform(df['model'])\n",
    "df['transmission_encoded'] = le.fit_transform(df['transmission'])\n",
    "df['fuelType_encoded'] = le.fit_transform(df['fuelType'])\n",
    "\n",
    "# 5. Normalization using MinMaxScaler for numeric features\n",
    "scaler = MinMaxScaler()\n",
    "df[['price', 'mileage', 'tax', 'mpg', 'engineSize']] = scaler.fit_transform(\n",
    "    df[['price', 'mileage', 'tax', 'mpg', 'engineSize']]\n",
    ")\n",
    "\n",
    "# 6. Standardization (optional example)\n",
    "std_scaler = StandardScaler()\n",
    "df[['year']] = std_scaler.fit_transform(df[['year']])\n",
    "\n",
    "# 7. Binning Example: mpg into categories\n",
    "df['mpg_level'] = pd.cut(df['mpg'], bins=[0, 40, 60, 80], labels=['Low', 'Medium', 'High'])\n",
    "\n",
    "# 8. Rename Column (optional)\n",
    "df.rename(columns={'mpg': 'MilesPerGallon'}, inplace=True)\n",
    "\n",
    "# Display the transformed DataFrame\n",
    "print(df.head())\n"
   ]
  },
  {
   "cell_type": "code",
   "execution_count": null,
   "id": "3046c2ac-bb42-419b-aaf8-a608983d3ef1",
   "metadata": {},
   "outputs": [],
   "source": []
  }
 ],
 "metadata": {
  "kernelspec": {
   "display_name": "Python [conda env:base] *",
   "language": "python",
   "name": "conda-base-py"
  },
  "language_info": {
   "codemirror_mode": {
    "name": "ipython",
    "version": 3
   },
   "file_extension": ".py",
   "mimetype": "text/x-python",
   "name": "python",
   "nbconvert_exporter": "python",
   "pygments_lexer": "ipython3",
   "version": "3.12.7"
  }
 },
 "nbformat": 4,
 "nbformat_minor": 5
}
